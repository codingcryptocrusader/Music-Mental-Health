{
 "cells": [
  {
   "cell_type": "code",
   "execution_count": null,
   "id": "8f2805e3",
   "metadata": {},
   "outputs": [],
   "source": [
    "import pandas as pd\n",
    "import matplotlib as plt\n",
    "import seaborn as sns\n",
    "import plotly\n",
    "import csv"
   ]
  },
  {
   "cell_type": "code",
   "execution_count": null,
   "id": "8f936db5",
   "metadata": {},
   "outputs": [],
   "source": [
    "# Load the dataset\n",
    "df = pd.read_csv('mxmh_survey_results.csv')\n"
   ]
  },
  {
   "cell_type": "markdown",
   "id": "abc3bc40",
   "metadata": {},
   "source": [
    "Exploratory Data Analysis (EDA)\n",
    "This project explores the relationship between music listening habits and self-reported mental health. Using a survey dataset, we will clean and process the data, perform exploratory data analysis (EDA), and create visualizations to uncover potential patterns and insights. The primary goal is to understand how factors like favorite genre, listening duration, and streaming service might correlate with anxiety, depression, insomnia, and OCD levels. All colors in visualizations for all data displayed are consistent to keep up with the workflow of each plot."
   ]
  },
  {
   "cell_type": "markdown",
   "id": "036c50f1",
   "metadata": {},
   "source": [
    "Data Cleaning and Wrangling\n",
    "We will clean the column names, handle missing values, and correct any erroneous data to prepare the dataset for analysis.\n"
   ]
  },
  {
   "cell_type": "markdown",
   "id": "d92dffcd",
   "metadata": {},
   "source": [
    "Standardize Column Names\n",
    "\n",
    "Converted all column names to lowercase and replaced spaces with underscores for easier access.\n"
   ]
  },
  {
   "cell_type": "code",
   "execution_count": null,
   "id": "caf27c16",
   "metadata": {},
   "outputs": [],
   "source": [
    "#Standardize Column Names\n",
    "df.columns = df.columns.str.lower().str.replace(' ', '_')\n",
    "print(\"Cleaned column names:\")\n",
    "print(df.columns)\n"
   ]
  },
  {
   "cell_type": "markdown",
   "id": "c49e4ab2",
   "metadata": {},
   "source": [
    "Handle Missing Values\n",
    "\n",
    "music_effects: This is a key categorical variable. [cite_start] \n",
    "The missing values are filled with \"No effect\" as a neutral default.\n",
    "Other Categorical Columns: For other categorical columns like primary_streaming_service, while_working, etc., will fill missing values with the mode (the most frequent value) as a reasonable assumption.\n",
    "Numerical Columns (age, bpm): For numerical columns, will fill missing values with the median, which is less sensitive to outliers than the mean.\n"
   ]
  },
  {
   "cell_type": "code",
   "execution_count": null,
   "id": "6e4b268f",
   "metadata": {},
   "outputs": [],
   "source": [
    "# Fill missing 'music_effects' with 'No effect'\n",
    "df['music_effects'].fillna('No effect', inplace=True)\n",
    "\n",
    "# Fill other categorical NaNs with the mode\n",
    "for col in ['primary_streaming_service', 'while_working', 'instrumentalist', 'composer']: mode_value = df[col].mode()[0]\n",
    "df[col].fillna(mode_value, inplace=True)\n",
    "\n",
    "# Fill numerical NaNs with the median\n",
    "df['age'].fillna(df['age'].median(), inplace=True)\n",
    "\n",
    "# Verify that most missing values are handled\n",
    "print(df.isnull().sum())"
   ]
  },
  {
   "cell_type": "markdown",
   "id": "43525360",
   "metadata": {},
   "source": [
    "Correct Erroneous Data\n",
    "During inspection of numerical data, an extremely high BPM value was noticed. This is likely a data entry error.\n",
    "A normal human heart rate, even during intense exercise, rarely exceeds 220 BPM, so we'll cap all BPM values at a reasonable upper limit (e.g., 250)."
   ]
  },
  {
   "cell_type": "markdown",
   "id": "13b05a65",
   "metadata": {},
   "source": [
    "Display descriptive statistics to spot outliers\n",
    "The max BPM is 999999999.0. This will replace any BPM over 250 with the median BPM."
   ]
  },
  {
   "cell_type": "code",
   "execution_count": null,
   "id": "a6761812",
   "metadata": {},
   "outputs": [],
   "source": [
    "# Display descriptive statistics to spot outliers\n",
    "print(df['bpm'].describe())\n"
   ]
  },
  {
   "cell_type": "code",
   "execution_count": null,
   "id": "68720f2f",
   "metadata": {},
   "outputs": [],
   "source": [
    "# Find the median BPM to use for replacement\n",
    "median_bpm = df['bpm'].median()\n",
    "\n"
   ]
  },
  {
   "cell_type": "code",
   "execution_count": null,
   "id": "122f286e",
   "metadata": {},
   "outputs": [],
   "source": [
    "# Replace impossibly high BPM values\n",
    "df['bpm'] = df['bpm'].apply(lambda x: median_bpm if x > 250 else x)"
   ]
  },
  {
   "cell_type": "code",
   "execution_count": null,
   "id": "b9174e32",
   "metadata": {},
   "outputs": [],
   "source": [
    "# Verify the correction\n",
    "print(\"\\nBPM statistics after correction:\")\n",
    "print(df['bpm'].describe())"
   ]
  },
  {
   "cell_type": "code",
   "execution_count": null,
   "id": "ea55abdc",
   "metadata": {},
   "outputs": [],
   "source": [
    "# Final Data Check\n",
    "print(\"Data cleaning complete. Here's the info for the cleaned DataFrame:\")\n",
    "df.info()"
   ]
  },
  {
   "cell_type": "markdown",
   "id": "1530ccfb",
   "metadata": {},
   "source": [
    "Correlation Analysis\n",
    "The following analysis explains how all numerical columns connect with one another. A correlation matrix is a great way to get a quick overview of the relationships between variables like age, listening hours, and mental health scores.\n"
   ]
  },
  {
   "cell_type": "code",
   "execution_count": null,
   "id": "56a8c68b",
   "metadata": {},
   "outputs": [],
   "source": [
    "# Mental Illness List of Disorders\n",
    "mental_health_cols = ['anxiety', 'depression', 'insomnia', 'ocd']\n",
    "\n",
    "# Group by favorite genre and calculate mean scores\n",
    "genre_mental_health = df.groupby('fav_genre')[mental_health_cols].mean().sort_values(by='anxiety', ascending=False)\n",
    "\n",
    "# Select numerical columns for correlation matrix\n",
    "numerical_cols = ['age', 'hours_per_day', 'bpm'] + mental_health_cols\n",
    "\n",
    "# Calculate the correlation matrix\n",
    "corr_matrix = df[numerical_cols].corr()\n",
    "\n",
    "# Plot a heatmap to visualize the correlations\n",
    "plt.figure(figsize=(10, 7))\n",
    "sns.heatmap(corr_matrix, annot=True, cmap='coolwarm', fmt='.2f')\n",
    "plt.title('Correlation Matrix of Numerical Features')\n",
    "plt.show()\n",
    "\n",
    "\n",
    "\n"
   ]
  },
  {
   "cell_type": "markdown",
   "id": "fb383eab",
   "metadata": {},
   "source": [
    "Key Finding: The correlation matrix shows fairly weak relationships between most variables. Anxiety, depression, insomnia, and OCD scores are moderately correlated with each other, which is expected as these conditions often coexist. There appears to be a very weak positive correlation between hours_per_day and the mental health metrics, but it's not strong enough to be conclusive from this chart alone.\n"
   ]
  },
  {
   "cell_type": "markdown",
   "id": "2abeeb36",
   "metadata": {},
   "source": [
    "Visualizations\n",
    "\n",
    "Visualization 1: Average Anxiety by Favorite Music Genre\n",
    "\n",
    "Story: I want to see if people who prefer certain music genres report higher levels of anxiety on average. This helps explore the stereotype that certain genres, like Metal or Rock, are associated with negative emotions, while others, like Classical, are associated with calmness.\n",
    "\n",
    "Chart Justification: A bar chart is the perfect choice here because it's excellent for comparing a numerical value (average anxiety) across different categories (music genres). I sorted the bars in descending order to make it immediately clear which genres have the highest and lowest associated anxiety scores. I used the color (skyblue) to keep the focus on the data itself rather than distracting with a complex color scheme. For colors, I used Blue for Depression, Red for Anxiety, Violet for Insomnia, and Orange for OCD. This palette represents all mental disorders giving them a distinct meaning of symbolism. Defining their mood in their own unique way."
   ]
  },
  {
   "cell_type": "code",
   "execution_count": null,
   "id": "70c1e068",
   "metadata": {},
   "outputs": [],
   "source": [
    "# Prepare data for plotting\n",
    "genre_anxiety = df.groupby('fav_genre')['anxiety'].mean().sort_values(ascending=False)"
   ]
  },
  {
   "cell_type": "code",
   "execution_count": null,
   "id": "a3e5ba20",
   "metadata": {},
   "outputs": [],
   "source": [
    "# Bar Plot: Emotional Scores Across Favorite Genres\n",
    "grouped.plot(kind='bar', stacked=True, color=['#1f77b4', '#d62728', '#9467bd', '#ff7f0e'], figsize=(10,6))\n",
    "plt.title('Emotional Scores Across Favorite Genres')\n",
    "plt.ylabel('Average Score')\n",
    "plt.xlabel('Streaming Service')\n",
    "plt.legend(title='Disorder')\n",
    "plt.tight_layout()\n",
    "plt.show()"
   ]
  },
  {
   "cell_type": "markdown",
   "id": "2ad4fe96",
   "metadata": {},
   "source": [
    "Key Finding: The chart shows that fans of Rock and Metal music reported the highest average anxiety levels. Conversely, those who favor Lofi, Latin, and Country music reported the lowest levels. This doesn't imply causation but is an interesting pattern worth noting."
   ]
  },
  {
   "cell_type": "markdown",
   "id": "fdf937b7",
   "metadata": {},
   "source": [
    "Visualization 2: Relationship Between Listening Hours and Depression\n",
    "\n",
    "Story: Does listening to more music correlate with higher or lower self-reported depression? I want to investigate the pattern between the number of hours someone listens to music per day and their depression score.\n",
    "\n",
    "Chart Justification: A scatter plot with a regression line (regplot) is ideal for visualizing the relationship between two continuous variables. Each point represents a survey respondent, and the line of best fit helps show the overall trend. A small amount of \"jitter\" was added to the data points to prevent overplotting where many respondents have the same values (e.g., 2 hours, depression score of 7). For colors, I used Blue for Depression, Red for Anxiety, Violet for Insomnia, and Orange for OCD. This palette represents all mental disorders giving them a distinct meaning of symbolism. Defining their mood in their own unique way."
   ]
  },
  {
   "cell_type": "code",
   "execution_count": null,
   "id": "7a879d35",
   "metadata": {},
   "outputs": [],
   "source": [
    "# Set up Regression Plot\n",
    "plt.figure(figsize=(10,6))\n",
    "colors = {'Depression': '#1f77b4', 'Anxiety': '#d62728', 'Insomnia': '#9467bd', 'OCD': '#ff7f0e'}\n",
    "\n",
    "# Plot each emotional score\n",
    "for emotion, color in colors.items():\n",
    "    sns.regplot(x='Hours per day', y=emotion, data=df, scatter=False, label=emotion, color=color)\n",
    "\n",
    "plt.title('Regression: Hours Listening vs. Emotional Scores')\n",
    "plt.xlabel('Hours per Day Listening to Music')\n",
    "plt.ylabel('Score')\n",
    "plt.legend()\n",
    "plt.tight_layout()\n",
    "plt.show()\n"
   ]
  },
  {
   "cell_type": "markdown",
   "id": "92aee87e",
   "metadata": {},
   "source": [
    "Key Finding: The regression line has a slight positive slope, suggesting a weak positive correlation: as listening hours increase, the depression score tends to increase slightly. However, the points are widely dispersed, indicating that this relationship is not strong. There are many people who listen for many hours with low depression scores, etc. This tells us that listening time alone is not a strong predictor of depression. "
   ]
  },
  {
   "cell_type": "markdown",
   "id": "006b5785",
   "metadata": {},
   "source": [
    "Visualization 3: Distribution of Mental Health Scores\n",
    "\n",
    "Story: What is the overall landscape of mental health in this survey's population? (Anxiety, Depression, Insomnia) to see their central tendencies and spread.\n",
    "\n",
    "Chart Justification: Box plots are an excellent tool for comparing the distributions of several numerical variables at once. For each condition, the box plot clearly shows the median (the line inside the box), the interquartile range (the box itself, representing the middle 50% of data), and the spread of the data (the whiskers). This makes it easy to compare, whether the median anxiety score is higher than the median insomnia score and how their spreads differ. For colors, I used Blue for Depression, Red for Anxiety, Violet for Insomnia, and Orange for OCD. This palette represents all mental disorders giving them a distinct meaning of symbolism. Defining their mood in their own unique way.\n"
   ]
  },
  {
   "cell_type": "code",
   "execution_count": null,
   "id": "7b1f09ae",
   "metadata": {},
   "outputs": [],
   "source": [
    "# Reshape the data for easier plotting with seaborn\n",
    "melted_df = df[mental_health_cols].melt(var_name='Condition', value_name='Score')"
   ]
  },
  {
   "cell_type": "code",
   "execution_count": null,
   "id": "b5a8dfcc",
   "metadata": {},
   "outputs": [],
   "source": [
    "# Melt the dataframe for boxplot\n",
    "melted = df.melt(id_vars=['Fav genre'], value_vars=['Depression', 'Anxiety', 'Insomnia', 'OCD'],\n",
    "var_name='Disorder', value_name='Score')\n",
    "\n",
    "plt.figure(figsize=(12,6))\n",
    "sns.boxplot(x='Fav genre', y='Score', hue='Disorder', data=melted,\n",
    "palette={'Depression': '#1f77b4', 'Anxiety': '#d62728', 'Insomnia': '#9467bd', 'OCD': '#ff7f0e'})\n",
    "plt.title('Emotional Scores by Favorite Genre')\n",
    "plt.xticks(rotation=45)\n",
    "plt.tight_layout()\n",
    "plt.show()\n"
   ]
  },
  {
   "cell_type": "markdown",
   "id": "b5ac5241",
   "metadata": {},
   "source": [
    "Key Finding: The box plots reveal that the median scores for all conditions are relatively high (hovering between 4 and 6). Anxiety and Depression have very similar distributions, with their median scores being the highest among the four conditions. Insomnia scores are slightly lower and more spread out. OCD scores are the lowest on average, with a median around 2, and are more skewed towards the lower end of the scale.\n"
   ]
  },
  {
   "cell_type": "markdown",
   "id": "25cfc26c",
   "metadata": {},
   "source": [
    "Key Findings:\n",
    "Data Quality: The initial dataset required significant cleaning, including standardizing column names, handling numerous missing values, and correcting outlier data points.\n",
    "\n",
    "Genre & Anxiety: A clear pattern emerged where favorite genres like Rock and Metal were associated with higher average anxiety scores, while Lofi and Latin were associated with lower scores.\n",
    "\n",
    "Listening Hours: There is a very weak positive correlation between the number of hours spent listening to music and self-reported scores for depression, anxiety, and insomnia. The weakness of this correlation suggests that listening time is not a major predictor of mental health status."
   ]
  }
 ],
 "metadata": {
  "kernelspec": {
   "display_name": "Python 3",
   "language": "python",
   "name": "python3"
  },
  "language_info": {
   "codemirror_mode": {
    "name": "ipython",
    "version": 3
   },
   "file_extension": ".py",
   "mimetype": "text/x-python",
   "name": "python",
   "nbconvert_exporter": "python",
   "pygments_lexer": "ipython3",
   "version": "3.12.10"
  }
 },
 "nbformat": 4,
 "nbformat_minor": 5
}
